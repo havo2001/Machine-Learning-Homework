{
 "cells": [
  {
   "cell_type": "markdown",
   "metadata": {},
   "source": [
    "*Credits: materials from this notebook belong to YSDA [Practical DL](https://github.com/yandexdataschool/Practical_DL) course. Special thanks for making them available online.*"
   ]
  },
  {
   "cell_type": "markdown",
   "metadata": {},
   "source": [
    "# Lab assignment №1, part 1\n",
    "\n",
    "This lab assignment consists of several parts. You are supposed to make some transformations, train some models, estimate the quality of the models and explain your results.\n",
    "\n",
    "Several comments:\n",
    "* Don't hesitate to ask questions, it's a good practice.\n",
    "* No private/public sharing, please. The copied assignments will be graded with 0 points.\n",
    "* Blocks of this lab will be graded separately."
   ]
  },
  {
   "cell_type": "markdown",
   "metadata": {},
   "source": [
    "## 1. Matrix differentiation"
   ]
  },
  {
   "cell_type": "markdown",
   "metadata": {},
   "source": [
    "Since it easy to google every task please please please try to undestand what's going on. The \"just answer\" thing will be not counted, make sure to present derivation of your solution. It is absolutely OK if you found an answer on web then just exercise in $\\LaTeX$ copying it into here."
   ]
  },
  {
   "cell_type": "markdown",
   "metadata": {},
   "source": [
    "Useful links: \n",
    "[1](http://www.machinelearning.ru/wiki/images/2/2a/Matrix-Gauss.pdf)\n",
    "[2](http://www.atmos.washington.edu/~dennis/MatrixCalculus.pdf)"
   ]
  },
  {
   "cell_type": "markdown",
   "metadata": {},
   "source": [
    "## ex. 1"
   ]
  },
  {
   "cell_type": "markdown",
   "metadata": {},
   "source": [
    "$$  \n",
    "y = x^Tx,  \\quad x \\in \\mathbb{R}^N \n",
    "$$"
   ]
  },
  {
   "cell_type": "markdown",
   "metadata": {},
   "source": [
    "$$\n",
    "\\frac{dy}{dx} = 2x\n",
    "$$ "
   ]
  },
  {
   "cell_type": "markdown",
   "metadata": {
    "tags": []
   },
   "source": [
    "$\\textbf{Solution:}$\n",
    "$$\n",
    "Assume: \\quad x = (x_{1}, x_{2}, ..., x_{N})\n",
    "$$\n",
    "\n",
    "$$\n",
    "\\Rightarrow y = x^Tx = x_{1}^2 + x_{2}^2 + ... + x_{N}^2\n",
    "$$\n",
    "\n",
    "$$\n",
    "\\Rightarrow \\frac{dy}{dx} = (\\frac{\\partial y}{\\partial x_{1}}, \\frac{\\partial y}{\\partial x_{2}}, ..., \\frac{\\partial y}{\\partial x_{N}}) = (2x_{1}, 2x_{2}, ..., 2x_{N})\n",
    "$$\n",
    "\n",
    "\n",
    "$$\n",
    "\\Rightarrow \\frac{dy}{dx} = 2x\n",
    "$$ "
   ]
  },
  {
   "cell_type": "markdown",
   "metadata": {},
   "source": [
    "## ex. 2"
   ]
  },
  {
   "cell_type": "markdown",
   "metadata": {},
   "source": [
    "$$ y = tr(AB) \\quad A,B \\in \\mathbb{R}^{N \\times N} $$ "
   ]
  },
  {
   "cell_type": "markdown",
   "metadata": {},
   "source": [
    "$$\n",
    "\\frac{dy}{dA} = B^T\n",
    "$$"
   ]
  },
  {
   "cell_type": "markdown",
   "metadata": {
    "tags": []
   },
   "source": [
    "$\\textbf{Solution:}$\n",
    "$$\n",
    "trAB = \\sum_{i=1}^Na_{1i}b_{i1} + \\sum_{i=1}^Na_{2i}b_{i2} + ... + \\sum_{i=1}^Na_{Ni}b_{iN}\n",
    "$$"
   ]
  },
  {
   "cell_type": "markdown",
   "metadata": {},
   "source": [
    "$$\n",
    "\\Rightarrow \\frac{\\partial tr(AB)}{\\partial a_{ij}} = bji\n",
    "$$\n",
    "\n",
    "$$\n",
    "\\Rightarrow \\frac{dy}{dA} = B^T\n",
    "$$"
   ]
  },
  {
   "cell_type": "markdown",
   "metadata": {},
   "source": [
    "## ex. 3"
   ]
  },
  {
   "cell_type": "markdown",
   "metadata": {},
   "source": [
    "$$  \n",
    "y = x^TAc , \\quad A\\in \\mathbb{R}^{N \\times N}, x\\in \\mathbb{R}^{N}, c\\in \\mathbb{R}^{N} \n",
    "$$"
   ]
  },
  {
   "cell_type": "markdown",
   "metadata": {},
   "source": [
    "$$\n",
    "\\frac{dy}{dx} = Ac\n",
    "$$"
   ]
  },
  {
   "cell_type": "markdown",
   "metadata": {},
   "source": [
    "$$\n",
    "\\frac{dy}{dA} = xc^T\n",
    "$$ "
   ]
  },
  {
   "cell_type": "markdown",
   "metadata": {},
   "source": [
    "Hint for the latter (one of the ways): use *ex. 2* result and the fact \n",
    "$$\n",
    "tr(ABC) = tr (CAB)\n",
    "$$"
   ]
  },
  {
   "cell_type": "markdown",
   "metadata": {
    "jupyter": {
     "outputs_hidden": true
    }
   },
   "source": [
    "$\\textbf{Solution:}$\n",
    "$$\n",
    "B = Ac \\Rightarrow y = x^TB \\Rightarrow y = \\sum_{i=1}^Nx_{i}b_{i} \\Rightarrow \\frac{dy}{dx} = B = Ac\n",
    "$$"
   ]
  },
  {
   "cell_type": "markdown",
   "metadata": {},
   "source": [
    "$\\textbf{Solution:}$\n",
    "$$ x^TA = (\\sum_{i=1}^N x_i a_{i1}...\\sum_{i=1}^N x_i a_{iN}) \\Rightarrow y = x^TAc = \\sum_{i=1}^N\\sum_{j=1}^N x_{j} a_{ji} c_{i} $$ \n",
    "\n",
    "$$\n",
    "\\Rightarrow \\frac{\\partial y}{\\partial a_{ij}} = x_{j} c_{i}\n",
    "$$\n",
    "\n",
    "$$\n",
    "\\Rightarrow \\frac{dy}{dA} = xc^T\n",
    "$$\n"
   ]
  },
  {
   "cell_type": "markdown",
   "metadata": {},
   "source": [
    "## ex. 4"
   ]
  },
  {
   "cell_type": "markdown",
   "metadata": {},
   "source": [
    "Classic matrix factorization example. Given matrix $X$ you need to find $A$, $S$ to approximate $X$. This can be done by simple gradient descent iteratively alternating $A$ and $S$ updates.\n",
    "$$\n",
    "J = || X - AS ||_F^2  , \\quad A\\in \\mathbb{R}^{N \\times R} , \\quad S\\in \\mathbb{R}^{R \\times M}\n",
    "$$\n",
    "$$\n",
    "\\frac{dJ}{dS} = ? \n",
    "$$\n",
    "\n",
    "You may use one of the following approaches:"
   ]
  },
  {
   "cell_type": "markdown",
   "metadata": {},
   "source": [
    "#### First approach\n",
    "Using ex.2 and the fact:\n",
    "$$\n",
    "|| X ||_F^2 = tr(XX^T) \n",
    "$$ \n",
    "it is easy to derive gradients (you can find it in one of the refs). "
   ]
  },
  {
   "cell_type": "markdown",
   "metadata": {},
   "source": [
    "$\\textbf{Solution:}$\n",
    "$$ ||( X - AS) ||_F^2 = tr((X - AS)(X - AS)^T) $$\n",
    "$$ = tr((X - AS)(X^T - (AS)^T)) $$\n",
    "$$ = tr((X - AS)(X^T - S^TA^T)) $$\n",
    "$$ = tr(XX^T - XS^TA^T - ASX^T + ASS^TA^T) $$\n",
    "$$ = tr(XX^T - 2ASX^T + ASS^TA^T) $$\n",
    "$$ = tr(XX^T) - tr(2ASX^T) + tr(ASS^TA^T) $$\n",
    "\n",
    "$$ \\Rightarrow \\frac{dJ}{dS} = -2\\frac{d(tr(ASX^T))}{dS} + \\frac{d(tr(ASS^TA^T))}{dS} $$  \n",
    "$$ \\frac{d(tr(ASX^T))}{dS} = A^TX $$\n",
    "\n",
    "$$ B = AS \\Rightarrow ASS^TA^T =BB^T$$\n",
    "$$ \\Rightarrow B_{ij} = \\sum_{k=1}^RA_{ik}S_{kj}$$\n",
    "\n",
    "$$ tr(BB^T) = \\sum_{i=1}^N\\sum_{j=1}^MB_{ij}^2 = \\sum_{i=1}^N\\sum_{j=1}^M(\\sum_{k=1}^RA_{ik}S_{kj})^2 $$\n",
    "\n",
    "$$ \\Rightarrow \\frac{d(tr(BB^T))}{dS_{tj}} = \\sum_{i=1}^N2(\\sum_{k=1}^RA_{ik}S_{kj})A_{it} $$\n",
    "$$\\Rightarrow \\frac{d(tr(BB^T))}{dS} = 2A^TB = 2A^TAS$$\n",
    "$$\\Rightarrow \\frac{dJ}{dS} = 2A^TAS - 2A^TX = 2(A^TAS - A^TX)$$"
   ]
  },
  {
   "cell_type": "markdown",
   "metadata": {},
   "source": [
    "$\\textbf{Answer:}$\n",
    "$$\\frac{dJ}{dS} = 2(A^TAS - A^TX)$$"
   ]
  },
  {
   "cell_type": "markdown",
   "metadata": {},
   "source": [
    "#### Second approach\n",
    "You can use *slightly different techniques* if they suits you. Take a look at this derivation:\n",
    "<img src=\"grad.png\">\n",
    "(excerpt from [Handbook of blind source separation, Jutten, page 517](https://books.google.ru/books?id=PTbj03bYH6kC&printsec=frontcover&dq=Handbook+of+Blind+Source+Separation&hl=en&sa=X&ved=0ahUKEwi-q_apiJDLAhULvXIKHVXJDWcQ6AEIHDAA#v=onepage&q=Handbook%20of%20Blind%20Source%20Separation&f=false), open for better picture)."
   ]
  },
  {
   "cell_type": "markdown",
   "metadata": {},
   "source": [
    "#### Third approach\n",
    "And finally we can use chain rule! \n",
    "let $ F = AS $ \n",
    "\n",
    "**Find**\n",
    "$$\n",
    "\\frac{dJ}{dF} =  \n",
    "$$ \n",
    "and \n",
    "$$\n",
    "\\frac{dF}{dS} =  \n",
    "$$ \n",
    "(the shape should be $ NM \\times RM )$.\n",
    "\n",
    "Now it is easy do get desired gradients:\n",
    "$$\n",
    "\\frac{dJ}{dS} =  \n",
    "$$ "
   ]
  },
  {
   "cell_type": "markdown",
   "metadata": {},
   "source": [
    "$\\textbf{Solution:}$\n",
    "$$ J = || X - AS ||_F^2 = || X - F ||_F^2 == tr((X - F)(X - F)^T) = tr((X - F)(X^T-F^T)$$\n",
    "$$ = tr(XX^T -FX^T - XF^T + FF^T) = tr(XX^T - 2FX^T + FF^T)$$\n",
    "\n",
    "$$ \\frac{dJ}{dF} = -2 \\frac{d(tr(FX^T))}{dF} + \\frac{d(tr(FF^T))}{dF} = -2X + 2F $$\n",
    "\n",
    "$$\\frac{dF}{dS} = \\frac{d(AS)}{dS} = \\frac{d(S^TA^T)}{dS} = A^T$$\n",
    "\n",
    "$$\\frac{dJ}{dS} = \\frac{dJ}{dF}\\frac{dF}{dS} = (2F - 2X)A^T = 2(ASA^T - XA^T)$$\n",
    "\n",
    "\n"
   ]
  },
  {
   "cell_type": "markdown",
   "metadata": {
    "jupyter": {
     "outputs_hidden": true
    }
   },
   "source": [
    "## 2. kNN questions\n",
    "Here come the questions from the assignment0_01. Please, refer to the assignment0_01 to get the context of the questions."
   ]
  },
  {
   "cell_type": "markdown",
   "metadata": {},
   "source": [
    "### Question 1\n",
    "\n",
    "Notice the structured patterns in the distance matrix, where some rows or columns are visible brighter. (Note that with the default color scheme black indicates low distances while white indicates high distances.)\n",
    "\n",
    "- What in the data is the cause behind the distinctly bright rows?\n",
    "- What causes the columns?\n",
    "\n",
    "*Your Answer:*\n",
    "\n",
    "- The brighter rows are given by the intensity values of the images we are comparing. It means that a test image with very high intensity values is being compared with training images of low intensity values <br>\n",
    "- The same occurs with the columns but instead we are comparing a training image with all test images \n",
    "\n",
    "\n",
    "\n"
   ]
  },
  {
   "cell_type": "markdown",
   "metadata": {},
   "source": [
    "### Question 2\n",
    "\n",
    "We can also use other distance metrics such as L1 distance.\n",
    "For pixel values $p_{ij}^{(k)}$ at location $(i,j)$ of some image $I_k$, \n",
    "\n",
    "the mean $\\mu$ across all pixels over all images is $$\\mu=\\frac{1}{nhw}\\sum_{k=1}^n\\sum_{i=1}^{h}\\sum_{j=1}^{w}p_{ij}^{(k)}$$\n",
    "And the pixel-wise mean $\\mu_{ij}$ across all images is \n",
    "$$\\mu_{ij}=\\frac{1}{n}\\sum_{k=1}^np_{ij}^{(k)}.$$\n",
    "The general standard deviation $\\sigma$ and pixel-wise standard deviation $\\sigma_{ij}$ is defined similarly.\n",
    "\n",
    "Which of the following preprocessing steps will not change the performance of a Nearest Neighbor classifier that uses L1 distance? Select all that apply.\n",
    "1. Subtracting the mean $\\mu$ ($\\tilde{p}_{ij}^{(k)}=p_{ij}^{(k)}-\\mu$.)\n",
    "2. Subtracting the per pixel mean $\\mu_{ij}$  ($\\tilde{p}_{ij}^{(k)}=p_{ij}^{(k)}-\\mu_{ij}$.)\n",
    "3. Subtracting the mean $\\mu$ and dividing by the standard deviation $\\sigma$.\n",
    "4. Subtracting the pixel-wise mean $\\mu_{ij}$ and dividing by the pixel-wise standard deviation $\\sigma_{ij}$.\n",
    "5. Rotating the coordinate axes of the data.\n",
    "\n",
    "*Your Answer:* 1, 2 and 3 are correct\n",
    "\n",
    "\n",
    "*Your Explanation:*\n",
    "<br>1. The L1 distance between each test point x_test in X_test and each training point x_train in X_train  after preprocessing does not change:\n",
    "$$\\left\\|(x_{1} - \\mu) - (x_{2} - \\mu) \\right\\| = \\left\\|x_{1} - \\mu - x_{2} + \\mu \\right\\| = \\left\\| x_{1} - x_{2}\\right\\|  $$\n",
    "\n",
    "<br>2. The L1 distance between each test point x_test in X_test and each training point x_train in X_train  after preprocessing does not change:\n",
    "\n",
    "$$ || (x_{1} - \\overrightarrow{\\mu}) - (x_{2} - \\overrightarrow{\\mu}) || = || x_{1} - x_{2} || $$\n",
    "\n",
    "<br>3. The L1 distance between each test point x_test in X_test and each training point x_train in X_train  after processing is multiplied by $\\frac{1}{\\sigma}$:\n",
    "\n",
    "$$ \\Big|\\Big| \\frac{x_{1} - \\mu}{\\sigma} - \\frac{x_{2} - \\mu}{\\sigma} \\Big|\\Big| = \\Big|\\Big| \\frac{x_{1} - x_{2}}{\\sigma} \\Big|\\Big| = \\frac{1}{\\sigma} || x_{1} - x_{2} ||$$\n",
    "\n",
    "<br>4. The formula:\n",
    "\n",
    "$$ || \\tilde{x}_{1} - \\tilde{x}_{2} ||_1 = \\sum_{i=1}^m \\Bigg | \\frac{x_{1}^{(i)} - \\mu^{(i)}}{\\sigma^{(i)}} - \\frac{x_{2}^{(i)} - \\mu^{(i)}}{\\sigma^{(i)}} \\Bigg| = \\sum_{i=1}^m \\Bigg | \\frac{x_{1}^{(i)} - x_{2}^{(i)}}{\\sigma^{(i)}} \\Bigg|$$\n",
    "\n",
    "For example: \n",
    "$$x = (0, 0),\\, y = (1, 3),\\, z = (4, 1),\\, \\sigma = (4, 1)$$\n",
    "\n",
    "$$ ||x - y|| = 4 < 5 = ||x - z|| $$\n",
    "\n",
    "$$ ||\\tilde{x} - \\tilde{y}|| = \\frac{1}{4} + 3 = 3.25 > \\frac{4}{4} + 1 = ||\\tilde{x} - \\tilde{z}|| $$\n",
    "\n",
    "So the performance changes.\n",
    "\n",
    "<br>5. For example: \n",
    "$$x = (0, 0),\\, y = (1, 0),\\, z = \\left(\\frac{\\sqrt{6}}{4}, \\frac{\\sqrt{6}}{4}\\right)$$\n",
    "\n",
    "$$ ||x - y|| = 1 < \\frac{\\sqrt{6}}{2} = ||x - y|| $$\n",
    "\n",
    "Use  45° clockwise rotation:\n",
    "\n",
    "$$\\tilde{x} = (0, 0),\\, \\tilde{y} = \\left(\\frac{\\sqrt{2}}{2}\\,,\\, \\frac{\\sqrt{2}}{2}\\right),\\, \\tilde{z} = \\left(0\\,,\\, \\frac{\\sqrt{3}}{2}\\right)$$\n",
    "\n",
    "$$ ||\\tilde{x} - \\tilde{y}|| = \\sqrt{2} > \\frac{\\sqrt{3}}{2} = ||\\tilde{x} - \\tilde{z}|| $$\n",
    "\n",
    "So the order of distances changes.\n",
    "\n"
   ]
  },
  {
   "cell_type": "markdown",
   "metadata": {},
   "source": [
    "## Question 3\n",
    "\n",
    "Which of the following statements about $k$-Nearest Neighbor ($k$-NN) are true in a classification setting, and for all $k$? Select all that apply.\n",
    "1. The decision boundary (hyperplane between classes in feature space) of the k-NN classifier is linear.\n",
    "2. The training error of a 1-NN will always be lower than that of 5-NN.\n",
    "3. The test error of a 1-NN will always be lower than that of a 5-NN.\n",
    "4. The time needed to classify a test example with the k-NN classifier grows with the size of the training set.\n",
    "5. None of the above.\n",
    "\n",
    "*Your Answer:* 2, 4\n",
    "\n",
    "\n",
    "*Your Explanation:* \n",
    "1. There is no hyperplane between classes of the k-NN classifier is linear.\n",
    "\n",
    "2. The training error of a 1-NN is equal to 0, because the nearest neighbor is itself.\n",
    "\n",
    "3. It depends on the training and testing data.\n",
    "\n",
    "4. Increasing the size of the training dataset incurs large number of comparisons between a test example and all the training dataset.\n",
    "\n",
    "\n"
   ]
  },
  {
   "cell_type": "code",
   "execution_count": null,
   "metadata": {},
   "outputs": [],
   "source": []
  }
 ],
 "metadata": {
  "kernelspec": {
   "display_name": "Python 3 (ipykernel)",
   "language": "python",
   "name": "python3"
  },
  "language_info": {
   "codemirror_mode": {
    "name": "ipython",
    "version": 3
   },
   "file_extension": ".py",
   "mimetype": "text/x-python",
   "name": "python",
   "nbconvert_exporter": "python",
   "pygments_lexer": "ipython3",
   "version": "3.9.7"
  }
 },
 "nbformat": 4,
 "nbformat_minor": 4
}
