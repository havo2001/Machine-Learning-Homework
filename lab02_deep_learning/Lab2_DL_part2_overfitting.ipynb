{
  "cells": [
    {
      "cell_type": "markdown",
      "metadata": {
        "id": "NFmOh482SyEF"
      },
      "source": [
        "## Lab 2\n",
        "### Part 2: Dealing with overfitting"
      ]
    },
    {
      "cell_type": "markdown",
      "metadata": {
        "id": "AjzAuO3oSvsI"
      },
      "source": [
        "Today we work with [Fashion-MNIST dataset](https://github.com/zalandoresearch/fashion-mnist) (*hint: it is available in `torchvision`*).\n",
        "\n",
        "Your goal for today:\n",
        "1. Train a FC (fully-connected) network that achieves >= 0.885 test accuracy.\n",
        "2. Cause considerable overfitting by modifying the network (e.g. increasing the number of network parameters and/or layers) and demonstrate in in the appropriate way (e.g. plot loss and accurasy on train and validation set w.r.t. network complexity).\n",
        "3. Try to deal with overfitting (at least partially) by using regularization techniques (Dropout/Batchnorm/...) and demonstrate the results.\n",
        "\n",
        "__Please, write a small report describing your ideas, tries and achieved results in the end of this file.__\n",
        "\n",
        "*Note*: Tasks 2 and 3 are interrelated, in task 3 your goal is to make the network from task 2 less prone to overfitting. Task 1 is independent from 2 and 3.\n",
        "\n",
        "*Note 2*: We recomment to use Google Colab or other machine with GPU acceleration."
      ]
    },
    {
      "cell_type": "code",
      "execution_count": 54,
      "metadata": {
        "id": "_KBld6VOSwhW"
      },
      "outputs": [],
      "source": [
        "import torch\n",
        "import torch.nn as nn\n",
        "import torchvision\n",
        "import torchvision.transforms as transforms\n",
        "import torchsummary\n",
        "from IPython.display import clear_output\n",
        "from matplotlib import pyplot as plt\n",
        "from matplotlib.pyplot import figure\n",
        "import numpy as np\n",
        "import os\n",
        "\n",
        "\n",
        "device = 'cuda:0' if torch.cuda.is_available() else 'cpu'"
      ]
    },
    {
      "cell_type": "code",
      "execution_count": 55,
      "metadata": {
        "colab": {
          "base_uri": "https://localhost:8080/"
        },
        "id": "EdLOG0XqS_g5",
        "outputId": "2d61078f-c4fe-4993-9b6e-224bdb0f776c"
      },
      "outputs": [
        {
          "output_type": "stream",
          "name": "stdout",
          "text": [
            "Directory fmnist already exists!\n"
          ]
        }
      ],
      "source": [
        "# Technical function\n",
        "def mkdir(path):\n",
        "    if not os.path.exists(root_path):\n",
        "        os.mkdir(root_path)\n",
        "        print('Directory', path, 'is created!')\n",
        "    else:\n",
        "        print('Directory', path, 'already exists!')\n",
        "        \n",
        "root_path = 'fmnist'\n",
        "mkdir(root_path)"
      ]
    },
    {
      "cell_type": "code",
      "execution_count": 56,
      "metadata": {
        "id": "qt6LE7XaTDT9"
      },
      "outputs": [],
      "source": [
        "download = True\n",
        "train_transform = transforms.ToTensor()\n",
        "test_transform = transforms.ToTensor()\n",
        "transforms.Compose((transforms.ToTensor()))\n",
        "\n",
        "\n",
        "fmnist_dataset_train = torchvision.datasets.FashionMNIST(root_path, \n",
        "                                                        train=True, \n",
        "                                                        transform=train_transform,\n",
        "                                                        target_transform=None,\n",
        "                                                        download=download)\n",
        "fmnist_dataset_test = torchvision.datasets.FashionMNIST(root_path, \n",
        "                                                       train=False, \n",
        "                                                       transform=test_transform,\n",
        "                                                       target_transform=None,\n",
        "                                                       download=download)"
      ]
    },
    {
      "cell_type": "code",
      "execution_count": 57,
      "metadata": {
        "id": "71YP0SPwTIxD"
      },
      "outputs": [],
      "source": [
        "train_loader = torch.utils.data.DataLoader(fmnist_dataset_train, \n",
        "                                           batch_size=128,\n",
        "                                           shuffle=True,\n",
        "                                           num_workers=2)\n",
        "test_loader = torch.utils.data.DataLoader(fmnist_dataset_test,\n",
        "                                          batch_size=256,\n",
        "                                          shuffle=False,\n",
        "                                          num_workers=2)"
      ]
    },
    {
      "cell_type": "code",
      "execution_count": 58,
      "metadata": {
        "colab": {
          "base_uri": "https://localhost:8080/"
        },
        "id": "v_YFmF7NTWrQ",
        "outputId": "4cf79281-4664-4969-f4b9-7d393e136d52"
      },
      "outputs": [
        {
          "output_type": "execute_result",
          "data": {
            "text/plain": [
              "10000"
            ]
          },
          "metadata": {},
          "execution_count": 58
        }
      ],
      "source": [
        "len(fmnist_dataset_test)"
      ]
    },
    {
      "cell_type": "code",
      "execution_count": 59,
      "metadata": {
        "colab": {
          "base_uri": "https://localhost:8080/"
        },
        "id": "aHca15bOTY4B",
        "outputId": "86eec0c5-7cbe-4406-f32a-a56c8717bfd1"
      },
      "outputs": [
        {
          "output_type": "stream",
          "name": "stdout",
          "text": [
            "torch.Size([128, 1, 28, 28])\n",
            "torch.Size([128])\n",
            "128\n"
          ]
        }
      ],
      "source": [
        "for img, label in train_loader:\n",
        "    print(img.shape)\n",
        "#     print(img)\n",
        "    print(label.shape)\n",
        "    print(label.size(0))\n",
        "    break"
      ]
    },
    {
      "cell_type": "markdown",
      "metadata": {
        "id": "b6OOOffHTfX5"
      },
      "source": [
        "### Task 1\n",
        "Train a network that achieves $\\geq 0.885$ test accuracy. It's fine to use only Linear (`nn.Linear`) layers and activations/dropout/batchnorm. Convolutional layers might be a great use, but we will meet them a bit later."
      ]
    },
    {
      "cell_type": "code",
      "execution_count": 60,
      "metadata": {
        "id": "ftpkTjxlTcFx"
      },
      "outputs": [],
      "source": [
        "class TinyNeuralNetwork(nn.Module):\n",
        "    def __init__(self, input_shape=28*28, num_classes=10, input_channels=1):\n",
        "        super(self.__class__, self).__init__()\n",
        "        self.model = nn.Sequential(\n",
        "            nn.Flatten(), # This layer converts image into a vector to use Linear layers afterwards\n",
        "            # Your network structure comes here\n",
        "            nn.Linear(input_shape, 50),\n",
        "            nn.ReLU(),\n",
        "            nn.Linear(50, num_classes),\n",
        "            nn.LogSoftmax(dim=1)\n",
        "        )\n",
        "        \n",
        "    def forward(self, inp):       \n",
        "        out = self.model(inp)\n",
        "        return out"
      ]
    },
    {
      "cell_type": "code",
      "execution_count": 61,
      "metadata": {
        "colab": {
          "base_uri": "https://localhost:8080/"
        },
        "id": "uBRKu2zJyYjp",
        "outputId": "614d4bd8-3811-41ef-8ee3-0ed473c9e22e"
      },
      "outputs": [
        {
          "output_type": "stream",
          "name": "stdout",
          "text": [
            "----------------------------------------------------------------\n",
            "        Layer (type)               Output Shape         Param #\n",
            "================================================================\n",
            "           Flatten-1                  [-1, 784]               0\n",
            "            Linear-2                   [-1, 50]          39,250\n",
            "              ReLU-3                   [-1, 50]               0\n",
            "            Linear-4                   [-1, 10]             510\n",
            "        LogSoftmax-5                   [-1, 10]               0\n",
            "================================================================\n",
            "Total params: 39,760\n",
            "Trainable params: 39,760\n",
            "Non-trainable params: 0\n",
            "----------------------------------------------------------------\n",
            "Input size (MB): 0.00\n",
            "Forward/backward pass size (MB): 0.01\n",
            "Params size (MB): 0.15\n",
            "Estimated Total Size (MB): 0.16\n",
            "----------------------------------------------------------------\n"
          ]
        }
      ],
      "source": [
        "torchsummary.summary(TinyNeuralNetwork().to(device), (28*28,))"
      ]
    },
    {
      "cell_type": "markdown",
      "metadata": {
        "id": "544PGKEnjPr5"
      },
      "source": [
        "Your experiments come here:"
      ]
    },
    {
      "cell_type": "code",
      "execution_count": 62,
      "metadata": {
        "id": "i3POFj90Ti-6"
      },
      "outputs": [],
      "source": [
        "model = TinyNeuralNetwork().to(device)\n",
        "# YOUR CODE HERE\n",
        "opt = torch.optim.Adam(model.parameters())\n",
        "# YOUR CODE HERE\n",
        "loss_func = nn.CrossEntropyLoss()\n",
        "\n",
        "# Your experiments, training and validation loops here"
      ]
    },
    {
      "cell_type": "code",
      "source": [
        "from tqdm import tqdm\n",
        "from sklearn.metrics import accuracy_score"
      ],
      "metadata": {
        "id": "FT2Bn-uzwiQ3"
      },
      "execution_count": 63,
      "outputs": []
    },
    {
      "cell_type": "code",
      "source": [
        "def train_data(model, train_loader, test_loader, loss_funct, opt, n_epoch):\n",
        "  train_loss = []\n",
        "  test_loss = []\n",
        "  train_accuracy = []\n",
        "  test_accuracy = []\n",
        "\n",
        "  for epoch in tqdm(range(n_epoch)):\n",
        "    epoch_train_loss = []\n",
        "    epoch_test_loss = []\n",
        "    epoch_test_accuracy = []\n",
        "    epoch_train_accuracy = []\n",
        "\n",
        "    model.train(True)\n",
        "    # Train model using train data\n",
        "    for X_batch, y_batch in train_loader:\n",
        "      opt.zero_grad()\n",
        "      X_batch = X_batch.to(device)\n",
        "      y_batch = y_batch.to(device)\n",
        "      predict = model.forward(X_batch)\n",
        "      loss = loss_func(predict, y_batch)\n",
        "      loss.backward()\n",
        "      opt.step()\n",
        "\n",
        "      epoch_train_loss.append(loss.item())\n",
        "      y_pred = predict.argmax(axis=1)\n",
        "      epoch_train_accuracy.append(accuracy_score(y_pred.cpu().numpy(), y_batch.cpu().numpy()))\n",
        "\n",
        "    # Train model using test data\n",
        "    model.train(False)\n",
        "    with torch.no_grad():\n",
        "      for X_batch, y_batch in test_loader:\n",
        "        X_batch = X_batch.to(device)\n",
        "        y_batch = y_batch.to(device)\n",
        "        predict = model.forward(X_batch)\n",
        "        loss = loss_func(predict, y_batch)\n",
        "        \n",
        "        epoch_test_loss.append(loss.item())\n",
        "        y_pred = predict.argmax(axis=1)\n",
        "        epoch_test_accuracy.append(accuracy_score(y_pred.cpu().numpy(), y_batch.cpu().numpy()))\n",
        "    \n",
        "    test_accuracy.append(np.mean(epoch_test_accuracy))\n",
        "    train_accuracy.append(np.mean(epoch_train_accuracy))\n",
        "    train_loss.append(np.mean(epoch_train_loss))\n",
        "    test_loss.append(np.mean(epoch_test_loss))\n",
        "\n",
        "    print(f'Epoch {epoch} has accurcy score of test data: {test_accuracy[-1]:.3f}')\n"
      ],
      "metadata": {
        "id": "IsdN5CGE95ad"
      },
      "execution_count": 76,
      "outputs": []
    },
    {
      "cell_type": "code",
      "source": [
        "train_data(model, train_loader, test_loader, loss_func, opt, 10) # Number of epoch is 10"
      ],
      "metadata": {
        "colab": {
          "base_uri": "https://localhost:8080/"
        },
        "id": "6dZicR0mPL_v",
        "outputId": "cef8a984-9eaf-4126-e6d9-fd9fe8bbd7d5"
      },
      "execution_count": 77,
      "outputs": [
        {
          "output_type": "stream",
          "name": "stderr",
          "text": [
            " 10%|█         | 1/10 [00:07<01:07,  7.52s/it]"
          ]
        },
        {
          "output_type": "stream",
          "name": "stdout",
          "text": [
            "Epoch 0 has accurcy score of test data: 0.884\n"
          ]
        },
        {
          "output_type": "stream",
          "name": "stderr",
          "text": [
            "\r 20%|██        | 2/10 [00:14<00:59,  7.48s/it]"
          ]
        },
        {
          "output_type": "stream",
          "name": "stdout",
          "text": [
            "Epoch 1 has accurcy score of test data: 0.890\n"
          ]
        },
        {
          "output_type": "stream",
          "name": "stderr",
          "text": [
            "\r 30%|███       | 3/10 [00:22<00:52,  7.57s/it]"
          ]
        },
        {
          "output_type": "stream",
          "name": "stdout",
          "text": [
            "Epoch 2 has accurcy score of test data: 0.887\n"
          ]
        },
        {
          "output_type": "stream",
          "name": "stderr",
          "text": [
            "\r 40%|████      | 4/10 [00:30<00:45,  7.57s/it]"
          ]
        },
        {
          "output_type": "stream",
          "name": "stdout",
          "text": [
            "Epoch 3 has accurcy score of test data: 0.884\n"
          ]
        },
        {
          "output_type": "stream",
          "name": "stderr",
          "text": [
            "\r 50%|█████     | 5/10 [00:38<00:39,  7.80s/it]"
          ]
        },
        {
          "output_type": "stream",
          "name": "stdout",
          "text": [
            "Epoch 4 has accurcy score of test data: 0.892\n"
          ]
        },
        {
          "output_type": "stream",
          "name": "stderr",
          "text": [
            "\r 60%|██████    | 6/10 [00:46<00:30,  7.74s/it]"
          ]
        },
        {
          "output_type": "stream",
          "name": "stdout",
          "text": [
            "Epoch 5 has accurcy score of test data: 0.885\n"
          ]
        },
        {
          "output_type": "stream",
          "name": "stderr",
          "text": [
            "\r 70%|███████   | 7/10 [00:53<00:23,  7.69s/it]"
          ]
        },
        {
          "output_type": "stream",
          "name": "stdout",
          "text": [
            "Epoch 6 has accurcy score of test data: 0.895\n"
          ]
        },
        {
          "output_type": "stream",
          "name": "stderr",
          "text": [
            "\r 80%|████████  | 8/10 [01:01<00:15,  7.64s/it]"
          ]
        },
        {
          "output_type": "stream",
          "name": "stdout",
          "text": [
            "Epoch 7 has accurcy score of test data: 0.893\n"
          ]
        },
        {
          "output_type": "stream",
          "name": "stderr",
          "text": [
            "\r 90%|█████████ | 9/10 [01:09<00:07,  7.84s/it]"
          ]
        },
        {
          "output_type": "stream",
          "name": "stdout",
          "text": [
            "Epoch 8 has accurcy score of test data: 0.893\n"
          ]
        },
        {
          "output_type": "stream",
          "name": "stderr",
          "text": [
            "100%|██████████| 10/10 [01:16<00:00,  7.70s/it]"
          ]
        },
        {
          "output_type": "stream",
          "name": "stdout",
          "text": [
            "Epoch 9 has accurcy score of test data: 0.894\n"
          ]
        },
        {
          "output_type": "stream",
          "name": "stderr",
          "text": [
            "\n"
          ]
        }
      ]
    },
    {
      "cell_type": "markdown",
      "metadata": {
        "id": "L7ISqkjmCPB1"
      },
      "source": [
        "### Task 2: Overfit it.\n",
        "Build a network that will overfit to this dataset. Demonstrate the overfitting in the appropriate way (e.g. plot loss and accurasy on train and test set w.r.t. network complexity).\n",
        "\n",
        "*Note:* you also might decrease the size of `train` dataset to enforce the overfitting and speed up the computations."
      ]
    },
    {
      "cell_type": "code",
      "execution_count": 78,
      "metadata": {
        "id": "H12uAWiGBwJx"
      },
      "outputs": [],
      "source": [
        "class OverfittingNeuralNetwork(nn.Module):\n",
        "    def __init__(self, input_shape=28*28, num_classes=10, input_channels=1):\n",
        "        super(self.__class__, self).__init__()\n",
        "        self.model = nn.Sequential(\n",
        "            nn.Flatten(), # This layer converts image into a vector to use Linear layers afterwards\n",
        "            # Your network structure comes here\n",
        "            nn.Linear(input_shape, 256),\n",
        "            nn.ReLU(),\n",
        "            nn.Linear(256, 64),\n",
        "            nn.ReLU(),\n",
        "            nn.Linear(64, num_classes)\n",
        "        )\n",
        "        \n",
        "    def forward(self, inp):       \n",
        "        out = self.model(inp)\n",
        "        return out"
      ]
    },
    {
      "cell_type": "code",
      "execution_count": 79,
      "metadata": {
        "id": "JgXAKCpvCwqH",
        "colab": {
          "base_uri": "https://localhost:8080/"
        },
        "outputId": "c4e35c24-036a-4efa-91aa-3946c7b35bd5"
      },
      "outputs": [
        {
          "output_type": "stream",
          "name": "stdout",
          "text": [
            "----------------------------------------------------------------\n",
            "        Layer (type)               Output Shape         Param #\n",
            "================================================================\n",
            "           Flatten-1                  [-1, 784]               0\n",
            "            Linear-2                  [-1, 256]         200,960\n",
            "              ReLU-3                  [-1, 256]               0\n",
            "            Linear-4                   [-1, 64]          16,448\n",
            "              ReLU-5                   [-1, 64]               0\n",
            "            Linear-6                   [-1, 10]             650\n",
            "================================================================\n",
            "Total params: 218,058\n",
            "Trainable params: 218,058\n",
            "Non-trainable params: 0\n",
            "----------------------------------------------------------------\n",
            "Input size (MB): 0.00\n",
            "Forward/backward pass size (MB): 0.01\n",
            "Params size (MB): 0.83\n",
            "Estimated Total Size (MB): 0.85\n",
            "----------------------------------------------------------------\n"
          ]
        }
      ],
      "source": [
        "torchsummary.summary(OverfittingNeuralNetwork().to(device), (28*28,))"
      ]
    },
    {
      "cell_type": "code",
      "execution_count": 80,
      "metadata": {
        "id": "Vb0pguskyYjq"
      },
      "outputs": [],
      "source": [
        "model = OverfittingNeuralNetwork().to(device)\n",
        "# YOUR CODE HERE\n",
        "opt = torch.optim.Adam(model.parameters())\n",
        "# YOUR CODE HERE\n",
        "loss_func = nn.CrossEntropyLoss()\n",
        "\n",
        "# Your experiments, come here"
      ]
    },
    {
      "cell_type": "code",
      "source": [
        "def train_data_overfit(model, train_loader, test_loader, loss_funct, opt, n_epoch):\n",
        "  train_loss = []\n",
        "  test_loss = []\n",
        "  train_accuracy = []\n",
        "  test_accuracy = []\n",
        "\n",
        "  for epoch in tqdm(range(n_epoch)):\n",
        "    epoch_train_loss = []\n",
        "    epoch_test_loss = []\n",
        "    epoch_test_accuracy = []\n",
        "    epoch_train_accuracy = []\n",
        "\n",
        "    model.train(True)\n",
        "    # Train model using train data\n",
        "    for X_batch, y_batch in train_loader:\n",
        "      opt.zero_grad()\n",
        "      X_batch = X_batch.to(device)\n",
        "      y_batch = y_batch.to(device)\n",
        "      predict = model(X_batch)\n",
        "      loss = loss_func(predict, y_batch)\n",
        "      loss.backward()\n",
        "      opt.step()\n",
        "\n",
        "      epoch_train_loss.append(loss.item())\n",
        "      y_pred = predict.max(1)[1].data\n",
        "      epoch_train_accuracy.append(accuracy_score(y_pred.cpu().numpy(), y_batch.cpu().numpy()))\n",
        "\n",
        "    # Train model using test data\n",
        "    model.train(False)\n",
        "    with torch.no_grad():\n",
        "      for X_batch, y_batch in test_loader:\n",
        "        X_batch = X_batch.to(device)\n",
        "        y_batch = y_batch.to(device)\n",
        "        predict = model(X_batch)\n",
        "        loss = loss_func(predict, y_batch)\n",
        "        \n",
        "        epoch_test_loss.append(loss.item())\n",
        "        y_pred = predict.max(1)[1].data\n",
        "        epoch_test_accuracy.append(accuracy_score(y_pred.cpu().numpy(), y_batch.cpu().numpy()))\n",
        "    \n",
        "    test_accuracy.append(np.mean(epoch_test_accuracy))\n",
        "    train_accuracy.append(np.mean(epoch_train_accuracy))\n",
        "    train_loss.append(np.mean(epoch_train_loss))\n",
        "    test_loss.append(np.mean(epoch_test_loss))\n",
        "\n",
        "    print(f'Epoch {epoch} has accurcy score of test data: {test_accuracy[-1]:.3f}')\n",
        "    print(f'Epoch {epoch} has accurcy score of train data: {train_accuracy[-1]:.3f}')\n",
        "\n",
        "\n",
        "  # print(f'Max accuracy score of test data: {max(test_accuracy)} at {np.argmax(test_accuracy)} epoch')\n",
        "  plt.figure(figsize=(15, 6))\n",
        "  plt.title('Loss')\n",
        "  plt.xlabel(\"epoch\")\n",
        "  plt.ylabel(\"loss value\")\n",
        "  plt.plot(train_loss, label='train')\n",
        "  plt.plot(test_loss, label='test')\n",
        "  plt.legend()\n",
        "\n",
        "  plt.figure(figsize=(15, 6))\n",
        "  plt.title('Accuracy score')\n",
        "  plt.xlabel(\"epoch\")\n",
        "  plt.ylabel(\"accuracy score\")\n",
        "  plt.plot(train_accuracy, label='train')\n",
        "  plt.plot(test_accuracy, label='test')\n",
        "  plt.legend()\n"
      ],
      "metadata": {
        "id": "4UD0xZeOVZVQ"
      },
      "execution_count": 83,
      "outputs": []
    },
    {
      "cell_type": "code",
      "source": [
        "train_data_overfit(model, train_loader, test_loader, loss_func, opt, 10) # Number of epoch is 10"
      ],
      "metadata": {
        "colab": {
          "base_uri": "https://localhost:8080/",
          "height": 1000
        },
        "outputId": "5fbdeab5-70bd-4677-f6d4-9514b0222340",
        "id": "C6TjHP8kUC_b"
      },
      "execution_count": 84,
      "outputs": [
        {
          "output_type": "stream",
          "name": "stderr",
          "text": [
            " 10%|█         | 1/10 [00:07<01:07,  7.49s/it]"
          ]
        },
        {
          "output_type": "stream",
          "name": "stdout",
          "text": [
            "Epoch 0 has accurcy score of test data: 0.883\n",
            "Epoch 0 has accurcy score of train data: 0.911\n"
          ]
        },
        {
          "output_type": "stream",
          "name": "stderr",
          "text": [
            "\r 20%|██        | 2/10 [00:14<00:59,  7.49s/it]"
          ]
        },
        {
          "output_type": "stream",
          "name": "stdout",
          "text": [
            "Epoch 1 has accurcy score of test data: 0.886\n",
            "Epoch 1 has accurcy score of train data: 0.914\n"
          ]
        },
        {
          "output_type": "stream",
          "name": "stderr",
          "text": [
            "\r 30%|███       | 3/10 [00:22<00:52,  7.50s/it]"
          ]
        },
        {
          "output_type": "stream",
          "name": "stdout",
          "text": [
            "Epoch 2 has accurcy score of test data: 0.889\n",
            "Epoch 2 has accurcy score of train data: 0.917\n"
          ]
        },
        {
          "output_type": "stream",
          "name": "stderr",
          "text": [
            "\r 40%|████      | 4/10 [00:30<00:45,  7.53s/it]"
          ]
        },
        {
          "output_type": "stream",
          "name": "stdout",
          "text": [
            "Epoch 3 has accurcy score of test data: 0.886\n",
            "Epoch 3 has accurcy score of train data: 0.921\n"
          ]
        },
        {
          "output_type": "stream",
          "name": "stderr",
          "text": [
            "\r 50%|█████     | 5/10 [00:37<00:37,  7.57s/it]"
          ]
        },
        {
          "output_type": "stream",
          "name": "stdout",
          "text": [
            "Epoch 4 has accurcy score of test data: 0.889\n",
            "Epoch 4 has accurcy score of train data: 0.922\n"
          ]
        },
        {
          "output_type": "stream",
          "name": "stderr",
          "text": [
            "\r 60%|██████    | 6/10 [00:45<00:30,  7.53s/it]"
          ]
        },
        {
          "output_type": "stream",
          "name": "stdout",
          "text": [
            "Epoch 5 has accurcy score of test data: 0.888\n",
            "Epoch 5 has accurcy score of train data: 0.926\n"
          ]
        },
        {
          "output_type": "stream",
          "name": "stderr",
          "text": [
            "\r 70%|███████   | 7/10 [00:52<00:22,  7.53s/it]"
          ]
        },
        {
          "output_type": "stream",
          "name": "stdout",
          "text": [
            "Epoch 6 has accurcy score of test data: 0.886\n",
            "Epoch 6 has accurcy score of train data: 0.928\n"
          ]
        },
        {
          "output_type": "stream",
          "name": "stderr",
          "text": [
            "\r 80%|████████  | 8/10 [01:00<00:15,  7.57s/it]"
          ]
        },
        {
          "output_type": "stream",
          "name": "stdout",
          "text": [
            "Epoch 7 has accurcy score of test data: 0.886\n",
            "Epoch 7 has accurcy score of train data: 0.929\n"
          ]
        },
        {
          "output_type": "stream",
          "name": "stderr",
          "text": [
            "\r 90%|█████████ | 9/10 [01:07<00:07,  7.55s/it]"
          ]
        },
        {
          "output_type": "stream",
          "name": "stdout",
          "text": [
            "Epoch 8 has accurcy score of test data: 0.884\n",
            "Epoch 8 has accurcy score of train data: 0.931\n"
          ]
        },
        {
          "output_type": "stream",
          "name": "stderr",
          "text": [
            "100%|██████████| 10/10 [01:15<00:00,  7.58s/it]"
          ]
        },
        {
          "output_type": "stream",
          "name": "stdout",
          "text": [
            "Epoch 9 has accurcy score of test data: 0.891\n",
            "Epoch 9 has accurcy score of train data: 0.934\n"
          ]
        },
        {
          "output_type": "stream",
          "name": "stderr",
          "text": [
            "\n"
          ]
        },
        {
          "output_type": "display_data",
          "data": {
            "text/plain": [
              "<Figure size 1080x432 with 1 Axes>"
            ],
            "image/png": "[encoded data removed]"
          },
          "metadata": {
            "needs_background": "light"
          }
        },
        {
          "output_type": "display_data",
          "data": {
            "text/plain": [
              "<Figure size 1080x432 with 1 Axes>"
            ],
            "image/png": "[encoded data removed]"
          },
          "metadata": {
            "needs_background": "light"
          }
        }
      ]
    },
    {
      "cell_type": "markdown",
      "metadata": {
        "id": "SZUyxJBPyYjr"
      },
      "source": [
        "### Task 3: Fix it.\n",
        "Fix the overfitted network from the previous step (at least partially) by using regularization techniques (Dropout/Batchnorm/...) and demonstrate the results. "
      ]
    },
    {
      "cell_type": "code",
      "execution_count": 111,
      "metadata": {
        "id": "QeMEE52syYjr"
      },
      "outputs": [],
      "source": [
        "class FixedNeuralNetwork(nn.Module):\n",
        "    def __init__(self, input_shape=28*28, num_classes=10, input_channels=1):\n",
        "        super(self.__class__, self).__init__()\n",
        "        self.model = nn.Sequential(\n",
        "            nn.Flatten(), # This layer converts image into a vector to use Linear layers afterwards\n",
        "            # Your network structure comes here\n",
        "            # Here i used Dropout\n",
        "            nn.Linear(input_shape, 256),\n",
        "            nn.Dropout(0.3),\n",
        "            nn.ReLU(),\n",
        "            nn.BatchNorm1d(256),\n",
        "            nn.Linear(256, 128),\n",
        "            nn.Dropout(0.3),\n",
        "            nn.ReLU(),\n",
        "            nn.BatchNorm1d(128),\n",
        "            nn.Linear(128, num_classes)\n",
        "        )\n",
        "        \n",
        "    def forward(self, inp):       \n",
        "        out = self.model(inp)\n",
        "        return out"
      ]
    },
    {
      "cell_type": "code",
      "execution_count": 113,
      "metadata": {
        "id": "ay-oLrthyYjr",
        "colab": {
          "base_uri": "https://localhost:8080/"
        },
        "outputId": "f52d3b55-b67f-4ef6-9092-5eab88d0dc0b"
      },
      "outputs": [
        {
          "output_type": "stream",
          "name": "stdout",
          "text": [
            "----------------------------------------------------------------\n",
            "        Layer (type)               Output Shape         Param #\n",
            "================================================================\n",
            "           Flatten-1                  [-1, 784]               0\n",
            "            Linear-2                  [-1, 256]         200,960\n",
            "           Dropout-3                  [-1, 256]               0\n",
            "              ReLU-4                  [-1, 256]               0\n",
            "       BatchNorm1d-5                  [-1, 256]             512\n",
            "            Linear-6                  [-1, 128]          32,896\n",
            "           Dropout-7                  [-1, 128]               0\n",
            "              ReLU-8                  [-1, 128]               0\n",
            "       BatchNorm1d-9                  [-1, 128]             256\n",
            "           Linear-10                   [-1, 10]           1,290\n",
            "================================================================\n",
            "Total params: 235,914\n",
            "Trainable params: 235,914\n",
            "Non-trainable params: 0\n",
            "----------------------------------------------------------------\n",
            "Input size (MB): 0.00\n",
            "Forward/backward pass size (MB): 0.02\n",
            "Params size (MB): 0.90\n",
            "Estimated Total Size (MB): 0.92\n",
            "----------------------------------------------------------------\n"
          ]
        }
      ],
      "source": [
        "torchsummary.summary(FixedNeuralNetwork().to(device), (28*28,))"
      ]
    },
    {
      "cell_type": "code",
      "execution_count": 114,
      "metadata": {
        "id": "_bqnj3u9yYjr"
      },
      "outputs": [],
      "source": [
        "model = FixedNeuralNetwork().to(device)\n",
        "opt = torch.optim.Adam(model.parameters())\n",
        "loss_func = nn.CrossEntropyLoss()\n",
        "\n",
        "# Your experiments, come here"
      ]
    },
    {
      "cell_type": "code",
      "source": [
        "def train_data_fix(model, train_loader, test_loader, loss_funct, opt, n_epoch):\n",
        "  train_loss = []\n",
        "  test_loss = []\n",
        "  train_accuracy = []\n",
        "  test_accuracy = []\n",
        "\n",
        "  for epoch in tqdm(range(n_epoch)):\n",
        "    epoch_train_loss = []\n",
        "    epoch_test_loss = []\n",
        "    epoch_test_accuracy = []\n",
        "    epoch_train_accuracy = []\n",
        "\n",
        "    model.train(True)\n",
        "    # Train model using train data\n",
        "    for X_batch, y_batch in train_loader:\n",
        "      opt.zero_grad()\n",
        "      X_batch = X_batch.to(device)\n",
        "      y_batch = y_batch.to(device)\n",
        "      predict = model(X_batch)\n",
        "      loss = loss_func(predict, y_batch)\n",
        "      loss.backward()\n",
        "      opt.step()\n",
        "\n",
        "      epoch_train_loss.append(loss.item())\n",
        "      y_pred = predict.max(1)[1].data\n",
        "      epoch_train_accuracy.append(accuracy_score(y_pred.cpu().numpy(), y_batch.cpu().numpy()))\n",
        "\n",
        "    # Train model using test data\n",
        "    model.train(False)\n",
        "    with torch.no_grad():\n",
        "      for X_batch, y_batch in test_loader:\n",
        "        X_batch = X_batch.to(device)\n",
        "        y_batch = y_batch.to(device)\n",
        "        predict = model(X_batch)\n",
        "        loss = loss_func(predict, y_batch)\n",
        "        \n",
        "        epoch_test_loss.append(loss.item())\n",
        "        y_pred = predict.max(1)[1].data\n",
        "        epoch_test_accuracy.append(accuracy_score(y_pred.cpu().numpy(), y_batch.cpu().numpy()))\n",
        "    \n",
        "    test_accuracy.append(np.mean(epoch_test_accuracy))\n",
        "    train_accuracy.append(np.mean(epoch_train_accuracy))\n",
        "    train_loss.append(np.mean(epoch_train_loss))\n",
        "    test_loss.append(np.mean(epoch_test_loss))\n",
        "\n",
        "    print(f'Epoch {epoch} has accurcy score of test data: {test_accuracy[-1]:.3f}')\n",
        "    print(f'Epoch {epoch} has accurcy score of train data: {train_accuracy[-1]:.3f}')\n",
        "\n",
        "\n",
        "  # print(f'Max accuracy score of test data: {max(test_accuracy)} at {np.argmax(test_accuracy)} epoch')\n",
        "  plt.figure(figsize=(15, 6))\n",
        "  plt.title('Loss')\n",
        "  plt.xlabel(\"epoch\")\n",
        "  plt.ylabel(\"loss value\")\n",
        "  plt.plot(train_loss, label='train')\n",
        "  plt.plot(test_loss, label='test')\n",
        "  plt.legend()\n",
        "\n",
        "  plt.figure(figsize=(15, 6))\n",
        "  plt.title('Accuracy score')\n",
        "  plt.xlabel(\"epoch\")\n",
        "  plt.ylabel(\"accuracy score\")\n",
        "  plt.plot(train_accuracy, label='train')\n",
        "  plt.plot(test_accuracy, label='test')\n",
        "  plt.legend()\n"
      ],
      "metadata": {
        "id": "g7_QL2A5aGnq"
      },
      "execution_count": 115,
      "outputs": []
    },
    {
      "cell_type": "code",
      "source": [
        "train_data_fix(model, train_loader, test_loader, loss_func, opt, 10)"
      ],
      "metadata": {
        "colab": {
          "base_uri": "https://localhost:8080/",
          "height": 1000
        },
        "id": "jP8pjYfHaLu-",
        "outputId": "8dd672ce-b53c-43f2-efbe-14c4c03054b5"
      },
      "execution_count": 116,
      "outputs": [
        {
          "output_type": "stream",
          "name": "stderr",
          "text": [
            " 10%|█         | 1/10 [00:08<01:12,  8.10s/it]"
          ]
        },
        {
          "output_type": "stream",
          "name": "stdout",
          "text": [
            "Epoch 0 has accurcy score of test data: 0.845\n",
            "Epoch 0 has accurcy score of train data: 0.808\n"
          ]
        },
        {
          "output_type": "stream",
          "name": "stderr",
          "text": [
            "\r 20%|██        | 2/10 [00:16<01:07,  8.47s/it]"
          ]
        },
        {
          "output_type": "stream",
          "name": "stdout",
          "text": [
            "Epoch 1 has accurcy score of test data: 0.853\n",
            "Epoch 1 has accurcy score of train data: 0.839\n"
          ]
        },
        {
          "output_type": "stream",
          "name": "stderr",
          "text": [
            "\r 30%|███       | 3/10 [00:24<00:58,  8.30s/it]"
          ]
        },
        {
          "output_type": "stream",
          "name": "stdout",
          "text": [
            "Epoch 2 has accurcy score of test data: 0.859\n",
            "Epoch 2 has accurcy score of train data: 0.849\n"
          ]
        },
        {
          "output_type": "stream",
          "name": "stderr",
          "text": [
            "\r 40%|████      | 4/10 [00:33<00:49,  8.23s/it]"
          ]
        },
        {
          "output_type": "stream",
          "name": "stdout",
          "text": [
            "Epoch 3 has accurcy score of test data: 0.860\n",
            "Epoch 3 has accurcy score of train data: 0.852\n"
          ]
        },
        {
          "output_type": "stream",
          "name": "stderr",
          "text": [
            "\r 50%|█████     | 5/10 [00:41<00:41,  8.39s/it]"
          ]
        },
        {
          "output_type": "stream",
          "name": "stdout",
          "text": [
            "Epoch 4 has accurcy score of test data: 0.865\n",
            "Epoch 4 has accurcy score of train data: 0.856\n"
          ]
        },
        {
          "output_type": "stream",
          "name": "stderr",
          "text": [
            "\r 60%|██████    | 6/10 [00:49<00:33,  8.31s/it]"
          ]
        },
        {
          "output_type": "stream",
          "name": "stdout",
          "text": [
            "Epoch 5 has accurcy score of test data: 0.869\n",
            "Epoch 5 has accurcy score of train data: 0.857\n"
          ]
        },
        {
          "output_type": "stream",
          "name": "stderr",
          "text": [
            "\r 70%|███████   | 7/10 [00:57<00:24,  8.22s/it]"
          ]
        },
        {
          "output_type": "stream",
          "name": "stdout",
          "text": [
            "Epoch 6 has accurcy score of test data: 0.868\n",
            "Epoch 6 has accurcy score of train data: 0.860\n"
          ]
        },
        {
          "output_type": "stream",
          "name": "stderr",
          "text": [
            "\r 80%|████████  | 8/10 [01:05<00:16,  8.13s/it]"
          ]
        },
        {
          "output_type": "stream",
          "name": "stdout",
          "text": [
            "Epoch 7 has accurcy score of test data: 0.866\n",
            "Epoch 7 has accurcy score of train data: 0.864\n"
          ]
        },
        {
          "output_type": "stream",
          "name": "stderr",
          "text": [
            "\r 90%|█████████ | 9/10 [01:14<00:08,  8.17s/it]"
          ]
        },
        {
          "output_type": "stream",
          "name": "stdout",
          "text": [
            "Epoch 8 has accurcy score of test data: 0.869\n",
            "Epoch 8 has accurcy score of train data: 0.866\n"
          ]
        },
        {
          "output_type": "stream",
          "name": "stderr",
          "text": [
            "100%|██████████| 10/10 [01:22<00:00,  8.21s/it]"
          ]
        },
        {
          "output_type": "stream",
          "name": "stdout",
          "text": [
            "Epoch 9 has accurcy score of test data: 0.876\n",
            "Epoch 9 has accurcy score of train data: 0.870\n"
          ]
        },
        {
          "output_type": "stream",
          "name": "stderr",
          "text": [
            "\n"
          ]
        },
        {
          "output_type": "display_data",
          "data": {
            "text/plain": [
              "<Figure size 1080x432 with 1 Axes>"
            ],
            "image/png": "[encoded data removed]"
          },
          "metadata": {
            "needs_background": "light"
          }
        },
        {
          "output_type": "display_data",
          "data": {
            "text/plain": [
              "<Figure size 1080x432 with 1 Axes>"
            ],
            "image/png": "[encoded data removed]"
          },
          "metadata": {
            "needs_background": "light"
          }
        }
      ]
    },
    {
      "cell_type": "markdown",
      "metadata": {
        "id": "dMui_uLJ7G0d"
      },
      "source": [
        "### Conclusions:\n",
        "_Write down small report with your conclusions and your ideas._\n",
        "If i add drop out, batchnorm to the linear model then overfitting can be avoided"
      ]
    }
  ],
  "metadata": {
    "accelerator": "GPU",
    "colab": {
      "provenance": []
    },
    "kernelspec": {
      "display_name": "myenv",
      "language": "python",
      "name": "myenv"
    },
    "language_info": {
      "codemirror_mode": {
        "name": "ipython",
        "version": 3
      },
      "file_extension": ".py",
      "mimetype": "text/x-python",
      "name": "python",
      "nbconvert_exporter": "python",
      "pygments_lexer": "ipython3",
      "version": "3.6.13"
    },
    "gpuClass": "standard"
  },
  "nbformat": 4,
  "nbformat_minor": 0
}